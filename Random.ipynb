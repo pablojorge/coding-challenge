{
 "metadata": {
  "name": "",
  "signature": "sha256:e0589372973dc7e6b8aec440c0f431a37ebc358454f64809bcef75449f1c8688"
 },
 "nbformat": 3,
 "nbformat_minor": 0,
 "worksheets": [
  {
   "cells": [
    {
     "cell_type": "code",
     "collapsed": false,
     "input": [
      "from Crypto import Random\n",
      "from Crypto.Cipher import PKCS1_OAEP\n",
      "from Crypto.Hash import SHA\n",
      "from Crypto.PublicKey import RSA\n",
      "\n",
      "import random\n",
      "\n",
      "def myrandom_gen(n):\n",
      "    # random_generator = Random.new().read\n",
      "    ret = reduce(lambda a, b: a+b,\n",
      "                 (chr(random.randint(0, 255)) for x in range(n)))\n",
      "    print \"myrandom_gen(%s): -> %s '%s'\" % (n, len(ret), map(ord, ret))\n",
      "    return ret\n",
      "\n",
      "def gen_rsa_keypair(key_size):\n",
      "    random_generator = myrandom_gen\n",
      "    priv = RSA.generate(key_size, random_generator)\n",
      "\n",
      "    return priv, priv.publickey()\n",
      "\n",
      "def rsa_encrypt(message, pub):\n",
      "    cipher = PKCS1_OAEP.new(pub, SHA)\n",
      "    return cipher.encrypt(message)\n",
      "\n",
      "def rsa_decrypt(ciphertext, priv):\n",
      "    cipher = PKCS1_OAEP.new(priv, SHA)\n",
      "    return cipher.decrypt(ciphertext)"
     ],
     "language": "python",
     "metadata": {},
     "outputs": [],
     "prompt_number": 76
    },
    {
     "cell_type": "code",
     "collapsed": false,
     "input": [
      "priv, pub = gen_rsa_keypair(1024)"
     ],
     "language": "python",
     "metadata": {},
     "outputs": [
      {
       "output_type": "stream",
       "stream": "stdout",
       "text": [
        "myrandom_gen(63): -> 63 '[201, 136, 70, 209, 134, 49, 0, 13, 81, 137, 232, 112, 134, 113, 243, 50, 63, 108, 4, 139, 123, 44, 19, 109, 54, 130, 173, 244, 91, 136, 12, 31, 18, 242, 226, 52, 126, 219, 138, 92, 189, 47, 162, 40, 213, 4, 13, 234, 28, 41, 139, 150, 92, 205, 126, 79, 90, 109, 2, 24, 215, 200, 74]'\n",
        "myrandom_gen(1): -> 1 '[66]'\n",
        "myrandom_gen(12): -> 12 '[136, 210, 159, 102, 83, 206, 251, 175, 78, 173, 148, 142]'\n",
        "myrandom_gen(1): -> 1 '[94]'\n",
        "myrandom_gen(12): -> 12 '[165, 51, 199, 177, 175, 69, 132, 105, 186, 231, 216, 94]'\n",
        "myrandom_gen(1): -> 1 '[36]'\n",
        "myrandom_gen(63): -> 63 '[5, 138, 28, 157, 148, 75, 222, 25, 90, 125, 121, 132, 136, 81, 182, 155, 91, 16, 114, 162, 65, 84, 72, 43, 28, 14, 29, 248, 64, 96, 12, 149, 59, 173, 53, 127, 255, 221, 152, 105, 4, 221, 212, 101, 192, 159, 185, 8, 47, 135, 21, 66, 226, 8, 222, 132, 237, 153, 30, 84, 18, 141, 146]'"
       ]
      },
      {
       "output_type": "stream",
       "stream": "stdout",
       "text": [
        "\n",
        "myrandom_gen(1): -> 1 '[16]'\n",
        "myrandom_gen(12): -> 12 '[161, 186, 254, 128, 163, 77, 30, 111, 6, 109, 170, 254]'\n",
        "myrandom_gen(1): -> 1 '[39]'\n",
        "myrandom_gen(12): -> 12 '[53, 156, 73, 58, 47, 137, 74, 250, 195, 72, 189, 249]'\n",
        "myrandom_gen(1): -> 1 '[136]'\n"
       ]
      }
     ],
     "prompt_number": 75
    },
    {
     "cell_type": "code",
     "collapsed": false,
     "input": [
      "message = \"test message\"\n",
      "ciphertext = rsa_encrypt(message, pub)\n",
      "print \"decrypted:\", rsa_decrypt(ciphertext, priv)"
     ],
     "language": "python",
     "metadata": {},
     "outputs": [
      {
       "output_type": "stream",
       "stream": "stdout",
       "text": [
        "decrypted: test message\n"
       ]
      }
     ],
     "prompt_number": 74
    }
   ],
   "metadata": {}
  }
 ]
}