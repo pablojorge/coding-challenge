{
 "metadata": {
  "name": "",
  "signature": "sha256:f927fa347162b645c1c8431234641becffb24f64235e2c1b03486437becb9de3"
 },
 "nbformat": 3,
 "nbformat_minor": 0,
 "worksheets": [
  {
   "cells": [
    {
     "cell_type": "code",
     "collapsed": false,
     "input": [
      "import requests\n",
      "\n",
      "# See https://www.random.org/clients/http/\n",
      "def fetch_random_ints(num, min, max):\n",
      "    if max > 1000000000:\n",
      "        raise Exception(\"max too large\")\n",
      "\n",
      "    print \"Fetching %s integers in [%s, %s] from random.org\" % (\n",
      "        num,\n",
      "        min,\n",
      "        max\n",
      "    )\n",
      "\n",
      "    resp = requests.get(\n",
      "        \"https://www.random.org/integers/\",\n",
      "        params=dict(\n",
      "            num=num,\n",
      "            min=min,\n",
      "            max=max,\n",
      "            col=1,\n",
      "            base=10,\n",
      "            format=\"plain\",\n",
      "            rnd=\"new\"\n",
      "        )\n",
      "    )\n",
      "    \n",
      "    if resp.status_code != 200:\n",
      "        raise Exception(\"Unexpected status code: %s (%s)\" % (\n",
      "            resp.status_code,\n",
      "            resp.text\n",
      "        ))\n",
      "\n",
      "    return [int(x)\n",
      "            for x in resp.text.split('\\n')\n",
      "            if x]"
     ],
     "language": "python",
     "metadata": {},
     "outputs": [],
     "prompt_number": 108
    },
    {
     "cell_type": "code",
     "collapsed": false,
     "input": [
      "from Crypto import Random\n",
      "from Crypto.Cipher import PKCS1_OAEP\n",
      "from Crypto.Hash import SHA\n",
      "from Crypto.PublicKey import RSA\n",
      "\n",
      "def pooled_random_gen(pool_size):\n",
      "    while True:\n",
      "        print \"obtaining %s bytes of random data\" % pool_size\n",
      "        pool = fetch_random_ints(pool_size, 0, 255)\n",
      "        for byte in pool:\n",
      "            yield chr(byte)\n",
      "\n",
      "def reader(gen):\n",
      "    def func(n):\n",
      "        ret = reduce(lambda a, b: a + b, (gen.next() for x in range(n)))\n",
      "        print \"myrandom(%s): -> %s '%s'\" % (n, len(ret), map(ord, ret))\n",
      "        return ret\n",
      "    return func\n",
      "\n",
      "def gen_rsa_keypair(key_size):\n",
      "    random_generator = reader(pooled_random_gen(128))\n",
      "    priv = RSA.generate(key_size, random_generator)\n",
      "\n",
      "    return priv, priv.publickey()\n",
      "\n",
      "def rsa_encrypt(message, pub):\n",
      "    cipher = PKCS1_OAEP.new(pub, SHA)\n",
      "    return cipher.encrypt(message)\n",
      "\n",
      "def rsa_decrypt(ciphertext, priv):\n",
      "    cipher = PKCS1_OAEP.new(priv, SHA)\n",
      "    return cipher.decrypt(ciphertext)"
     ],
     "language": "python",
     "metadata": {},
     "outputs": [],
     "prompt_number": 117
    },
    {
     "cell_type": "code",
     "collapsed": false,
     "input": [
      "priv, pub = gen_rsa_keypair(1024)"
     ],
     "language": "python",
     "metadata": {},
     "outputs": [
      {
       "output_type": "stream",
       "stream": "stdout",
       "text": [
        "obtaining 128 bytes of random data\n",
        "Fetching 128 integers in [0, 255] from random.org\n",
        "myrandom(63): -> 63 '[110, 219, 234, 245, 157, 245, 161, 22, 188, 242, 19, 38, 28, 117, 63, 130, 37, 127, 13, 129, 222, 245, 5, 52, 7, 111, 192, 133, 207, 154, 74, 241, 206, 189, 16, 171, 121, 154, 176, 134, 202, 146, 19, 227, 121, 223, 185, 8, 234, 162, 171, 126, 168, 118, 52, 74, 215, 249, 208, 253, 35, 0, 2]'"
       ]
      },
      {
       "output_type": "stream",
       "stream": "stdout",
       "text": [
        "\n",
        "myrandom(1): -> 1 '[35]'\n",
        "myrandom(12): -> 12 '[176, 252, 91, 115, 71, 182, 162, 115, 62, 208, 26, 202]'\n",
        "myrandom(1): -> 1 '[92]'\n",
        "myrandom(12): -> 12 '[224, 20, 178, 29, 143, 228, 74, 100, 168, 145, 251, 153]'\n",
        "myrandom(1): -> 1 '[234]'\n",
        "obtaining 128 bytes of random data"
       ]
      },
      {
       "output_type": "stream",
       "stream": "stdout",
       "text": [
        "\n",
        "Fetching 128 integers in [0, 255] from random.org\n",
        "myrandom(63): -> 63 '[59, 91, 126, 77, 38, 59, 153, 238, 102, 78, 0, 142, 10, 211, 135, 49, 97, 138, 220, 193, 125, 98, 202, 206, 112, 160, 31, 96, 74, 93, 167, 194, 63, 172, 77, 246, 150, 158, 89, 0, 206, 136, 28, 108, 55, 59, 118, 103, 181, 191, 4, 189, 16, 223, 28, 210, 27, 188, 188, 138, 197, 42, 74]'"
       ]
      },
      {
       "output_type": "stream",
       "stream": "stdout",
       "text": [
        "\n",
        "myrandom(1): -> 1 '[151]'\n",
        "myrandom(63): -> 63 '[18, 121, 147, 151, 171, 194, 132, 248, 165, 110, 141, 220, 132, 22, 121, 31, 91, 69, 18, 125, 225, 233, 252, 211, 113, 113, 78, 209, 180, 211, 34, 163, 178, 85, 117, 167, 68, 161, 242, 84, 232, 122, 83, 102, 9, 19, 182, 192, 139, 244, 150, 52, 111, 31, 39, 51, 54, 122, 192, 216, 205, 132, 252]'\n",
        "myrandom(1): -> 1 '[53]'\n",
        "myrandom(12): -> 12 '[162, 141, 248, 193, 40, 64, 85, 221, 12, 161, 133, 33]'\n",
        "myrandom(1): -> 1 '[135]'\n",
        "myrandom(12): -> 12 '[37, 241, 51, 120, 46, 215, 140, 11, 107, 37, 161, 87]'\n",
        "myrandom(1): -> 1 '[6]'\n"
       ]
      }
     ],
     "prompt_number": 118
    },
    {
     "cell_type": "code",
     "collapsed": false,
     "input": [
      "print \"priv:\", priv\n",
      "print \"pub:\", pub\n",
      "\n",
      "message = \"test message\"\n",
      "ciphertext = rsa_encrypt(message, pub)\n",
      "\n",
      "print \"ciphertext:\", map(ord, ciphertext)\n",
      "print \"decrypted:\", rsa_decrypt(ciphertext, priv)"
     ],
     "language": "python",
     "metadata": {},
     "outputs": [
      {
       "output_type": "stream",
       "stream": "stdout",
       "text": [
        "priv: <_RSAobj @0x10c25c098 n(1024),e,d,p,q,u,private>\n",
        "pub: <_RSAobj @0x10c25cef0 n(1024),e>\n",
        "ciphertext: [123, 251, 158, 185, 196, 171, 132, 79, 153, 134, 247, 201, 159, 3, 34, 171, 169, 20, 86, 182, 188, 71, 125, 170, 159, 36, 251, 236, 31, 100, 77, 110, 211, 119, 46, 115, 161, 127, 96, 206, 118, 175, 83, 12, 50, 41, 167, 187, 229, 216, 40, 106, 208, 163, 179, 188, 42, 66, 38, 117, 60, 238, 184, 70, 41, 144, 72, 36, 251, 112, 224, 234, 41, 23, 200, 147, 178, 129, 213, 179, 122, 178, 27, 4, 124, 82, 88, 35, 175, 95, 106, 49, 180, 38, 101, 239, 132, 142, 114, 156, 74, 191, 135, 84, 202, 16, 227, 253, 173, 10, 155, 58, 134, 130, 117, 253, 126, 61, 40, 10, 248, 50, 173, 99, 248, 242, 94, 189]\n",
        "decrypted: test message\n"
       ]
      }
     ],
     "prompt_number": 107
    }
   ],
   "metadata": {}
  }
 ]
}