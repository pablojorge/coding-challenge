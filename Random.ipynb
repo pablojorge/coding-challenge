{
 "metadata": {
  "name": "",
  "signature": "sha256:e0bb6d2d180290d01fdba42bac4d12edd39d2c70dbbeeb8743c237dab62f4cc0"
 },
 "nbformat": 3,
 "nbformat_minor": 0,
 "worksheets": [
  {
   "cells": [
    {
     "cell_type": "code",
     "collapsed": false,
     "input": [
      "from Crypto import Random\n",
      "from Crypto.Cipher import PKCS1_OAEP\n",
      "from Crypto.Hash import SHA\n",
      "from Crypto.PublicKey import RSA\n",
      "\n",
      "def gen_rsa_keypair(key_size):\n",
      "    random_generator = Random.new().read\n",
      "    priv = RSA.generate(key_size, random_generator)\n",
      "\n",
      "    return priv, priv.publickey()\n",
      "\n",
      "def rsa_encrypt(message, pub):\n",
      "    cipher = PKCS1_OAEP.new(pub, SHA)\n",
      "    return cipher.encrypt(message)\n",
      "\n",
      "def rsa_decrypt(ciphertext, priv):\n",
      "    cipher = PKCS1_OAEP.new(priv, SHA)\n",
      "    return cipher.decrypt(ciphertext)"
     ],
     "language": "python",
     "metadata": {},
     "outputs": [],
     "prompt_number": 24
    },
    {
     "cell_type": "code",
     "collapsed": false,
     "input": [
      "priv, pub = gen_rsa_keypair(1024)"
     ],
     "language": "python",
     "metadata": {},
     "outputs": [],
     "prompt_number": 25
    },
    {
     "cell_type": "code",
     "collapsed": false,
     "input": [
      "message = \"test message\"\n",
      "ciphertext = rsa_encrypt(message, pub)\n",
      "print \"decrypted:\", rsa_decrypt(ciphertext, priv)"
     ],
     "language": "python",
     "metadata": {},
     "outputs": [
      {
       "output_type": "stream",
       "stream": "stdout",
       "text": [
        "decrypted: test message\n"
       ]
      }
     ],
     "prompt_number": 26
    }
   ],
   "metadata": {}
  }
 ]
}