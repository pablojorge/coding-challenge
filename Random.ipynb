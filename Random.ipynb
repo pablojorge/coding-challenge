{
 "metadata": {
  "name": "",
  "signature": "sha256:ff29dc7b280912913e9cd6431a32c78a434d15ecf263edb135a768ad899259df"
 },
 "nbformat": 3,
 "nbformat_minor": 0,
 "worksheets": [
  {
   "cells": [
    {
     "cell_type": "code",
     "collapsed": false,
     "input": [
      "import requests\n",
      "\n",
      "# See https://www.random.org/clients/http/\n",
      "def fetch_random_ints(num, min, max):\n",
      "    if max > 1000000000:\n",
      "        raise Exception(\"max too large\")\n",
      "\n",
      "    print \"Fetching %s integers in [%s, %s] from random.org\" % (\n",
      "        num,\n",
      "        min,\n",
      "        max\n",
      "    )\n",
      "\n",
      "    resp = requests.get(\n",
      "        \"https://www.random.org/integers/\",\n",
      "        params=dict(\n",
      "            num=num,\n",
      "            min=min,\n",
      "            max=max,\n",
      "            col=1,\n",
      "            base=10,\n",
      "            format=\"plain\",\n",
      "            rnd=\"new\"\n",
      "        )\n",
      "    )\n",
      "    \n",
      "    if resp.status_code != 200:\n",
      "        raise Exception(\"Unexpected status code: %s (%s)\" % (\n",
      "            resp.status_code,\n",
      "            resp.text\n",
      "        ))\n",
      "\n",
      "    return [int(x)\n",
      "            for x in resp.text.split('\\n')\n",
      "            if x]"
     ],
     "language": "python",
     "metadata": {},
     "outputs": [],
     "prompt_number": 102
    },
    {
     "cell_type": "code",
     "collapsed": false,
     "input": [
      "from Crypto import Random\n",
      "from Crypto.Cipher import PKCS1_OAEP\n",
      "from Crypto.Hash import SHA\n",
      "from Crypto.PublicKey import RSA\n",
      "\n",
      "import random\n",
      "\n",
      "def myrandom_gen(n):\n",
      "    # random_generator = Random.new().read\n",
      "    ret = reduce(lambda a, b: a+b,\n",
      "                 (chr(random.randint(0, 255)) for x in range(n)))\n",
      "    print \"myrandom_gen(%s): -> %s '%s'\" % (n, len(ret), map(ord, ret))\n",
      "    return ret\n",
      "\n",
      "def my_true_random_gen(n):\n",
      "    # random_generator = Random.new().read\n",
      "    ret = reduce(lambda a, b: a+b,\n",
      "                 (chr(x) for x in fetch_random_ints(n, 0, 255)))\n",
      "    print \"myrandom_gen(%s): -> %s '%s'\" % (n, len(ret), map(ord, ret))\n",
      "    return ret\n",
      "\n",
      "def gen_rsa_keypair(key_size):\n",
      "    random_generator = my_true_random_gen\n",
      "    priv = RSA.generate(key_size, random_generator)\n",
      "\n",
      "    return priv, priv.publickey()\n",
      "\n",
      "def rsa_encrypt(message, pub):\n",
      "    cipher = PKCS1_OAEP.new(pub, SHA)\n",
      "    return cipher.encrypt(message)\n",
      "\n",
      "def rsa_decrypt(ciphertext, priv):\n",
      "    cipher = PKCS1_OAEP.new(priv, SHA)\n",
      "    return cipher.decrypt(ciphertext)"
     ],
     "language": "python",
     "metadata": {},
     "outputs": [],
     "prompt_number": 103
    },
    {
     "cell_type": "code",
     "collapsed": false,
     "input": [
      "priv, pub = gen_rsa_keypair(1024)"
     ],
     "language": "python",
     "metadata": {},
     "outputs": [
      {
       "output_type": "stream",
       "stream": "stdout",
       "text": [
        "Fetching 63 integers in [0, 255] from random.org\n",
        "myrandom_gen(63): -> 63 '[63, 171, 117, 235, 180, 223, 244, 18, 186, 192, 14, 127, 97, 98, 63, 140, 196, 188, 208, 240, 203, 187, 205, 141, 166, 127, 55, 61, 212, 186, 96, 14, 92, 72, 51, 195, 89, 197, 13, 57, 235, 111, 94, 7, 56, 136, 19, 82, 43, 17, 160, 240, 151, 238, 17, 207, 45, 181, 13, 194, 213, 223, 89]'"
       ]
      },
      {
       "output_type": "stream",
       "stream": "stdout",
       "text": [
        "\n",
        "Fetching 1 integers in [0, 255] from random.org\n",
        "myrandom_gen(1): -> 1 '[176]'"
       ]
      },
      {
       "output_type": "stream",
       "stream": "stdout",
       "text": [
        "\n",
        "Fetching 63 integers in [0, 255] from random.org\n",
        "myrandom_gen(63): -> 63 '[195, 215, 234, 218, 159, 168, 156, 226, 175, 197, 68, 180, 90, 22, 139, 137, 227, 192, 32, 22, 107, 35, 174, 110, 173, 86, 190, 21, 111, 250, 120, 151, 51, 32, 10, 101, 228, 150, 226, 160, 253, 169, 173, 35, 203, 82, 68, 109, 196, 206, 35, 111, 255, 214, 143, 38, 88, 75, 111, 50, 130, 31, 216]'"
       ]
      },
      {
       "output_type": "stream",
       "stream": "stdout",
       "text": [
        "\n",
        "Fetching 1 integers in [0, 255] from random.org\n",
        "myrandom_gen(1): -> 1 '[159]'"
       ]
      },
      {
       "output_type": "stream",
       "stream": "stdout",
       "text": [
        "\n",
        "Fetching 63 integers in [0, 255] from random.org\n",
        "myrandom_gen(63): -> 63 '[138, 67, 0, 44, 112, 134, 116, 150, 107, 132, 248, 69, 87, 124, 224, 113, 254, 61, 22, 48, 112, 243, 215, 57, 116, 49, 97, 49, 248, 13, 193, 184, 26, 75, 61, 202, 183, 243, 138, 135, 251, 160, 252, 129, 198, 235, 94, 81, 252, 76, 36, 114, 49, 84, 56, 236, 113, 101, 42, 196, 16, 213, 194]'"
       ]
      },
      {
       "output_type": "stream",
       "stream": "stdout",
       "text": [
        "\n",
        "Fetching 1 integers in [0, 255] from random.org\n",
        "myrandom_gen(1): -> 1 '[173]'"
       ]
      },
      {
       "output_type": "stream",
       "stream": "stdout",
       "text": [
        "\n",
        "Fetching 63 integers in [0, 255] from random.org\n",
        "myrandom_gen(63): -> 63 '[101, 239, 240, 208, 67, 11, 56, 180, 48, 84, 142, 225, 232, 147, 86, 187, 231, 195, 34, 72, 109, 96, 53, 44, 108, 151, 58, 48, 23, 252, 15, 206, 194, 233, 152, 139, 1, 132, 153, 241, 195, 40, 160, 43, 205, 95, 171, 74, 23, 41, 46, 24, 214, 0, 56, 145, 66, 239, 240, 110, 230, 197, 203]'"
       ]
      },
      {
       "output_type": "stream",
       "stream": "stdout",
       "text": [
        "\n",
        "Fetching 1 integers in [0, 255] from random.org\n",
        "myrandom_gen(1): -> 1 '[189]'"
       ]
      },
      {
       "output_type": "stream",
       "stream": "stdout",
       "text": [
        "\n",
        "Fetching 63 integers in [0, 255] from random.org\n",
        "myrandom_gen(63): -> 63 '[105, 105, 31, 21, 117, 252, 59, 194, 220, 250, 189, 142, 233, 113, 203, 218, 95, 80, 231, 179, 86, 21, 77, 242, 98, 184, 165, 161, 223, 228, 71, 229, 14, 80, 126, 179, 228, 137, 91, 12, 226, 40, 254, 186, 146, 79, 34, 241, 6, 231, 198, 206, 70, 235, 167, 240, 117, 186, 56, 69, 75, 141, 6]'"
       ]
      },
      {
       "output_type": "stream",
       "stream": "stdout",
       "text": [
        "\n",
        "Fetching 1 integers in [0, 255] from random.org\n",
        "myrandom_gen(1): -> 1 '[222]'"
       ]
      }
     ]
    },
    {
     "cell_type": "code",
     "collapsed": false,
     "input": [
      "print \"priv:\", priv\n",
      "print \"pub:\", pub\n",
      "\n",
      "message = \"test message\"\n",
      "ciphertext = rsa_encrypt(message, pub)\n",
      "\n",
      "print \"ciphertext:\", map(ord, ciphertext)\n",
      "print \"decrypted:\", rsa_decrypt(ciphertext, priv)"
     ],
     "language": "python",
     "metadata": {},
     "outputs": [
      {
       "output_type": "stream",
       "stream": "stdout",
       "text": [
        "priv: <_RSAobj @0x10bf0cab8 n(1024),e,d,p,q,u,private>\n",
        "pub: <_RSAobj @0x10bd7b758 n(1024),e>\n",
        "ciphertext: [150, 242, 109, 52, 11, 67, 133, 168, 112, 210, 108, 216, 157, 201, 212, 29, 134, 149, 144, 77, 68, 141, 132, 9, 93, 82, 180, 81, 42, 4, 65, 233, 188, 233, 40, 176, 56, 37, 45, 6, 67, 132, 126, 69, 65, 1, 185, 202, 80, 208, 23, 14, 255, 170, 255, 69, 242, 60, 247, 221, 21, 233, 171, 15, 223, 240, 104, 51, 125, 250, 164, 72, 73, 247, 94, 100, 103, 167, 82, 219, 119, 10, 34, 81, 52, 1, 138, 183, 24, 102, 157, 242, 65, 125, 254, 78, 37, 216, 5, 20, 53, 18, 181, 232, 153, 42, 68, 245, 250, 18, 124, 84, 50, 140, 99, 180, 139, 212, 8, 106, 48, 212, 55, 5, 23, 11, 45, 142]\n",
        "decrypted: test message\n"
       ]
      }
     ],
     "prompt_number": 97
    }
   ],
   "metadata": {}
  }
 ]
}