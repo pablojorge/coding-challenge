{
 "metadata": {
  "name": "",
  "signature": "sha256:ee655a90019f501b7c68e5629030d47bcfbe36f09c55d367c1442fd8a685af5b"
 },
 "nbformat": 3,
 "nbformat_minor": 0,
 "worksheets": [
  {
   "cells": [
    {
     "cell_type": "markdown",
     "metadata": {},
     "source": [
      "# random.org client"
     ]
    },
    {
     "cell_type": "code",
     "collapsed": false,
     "input": [
      "import requests\n",
      "\n",
      "# See https://www.random.org/clients/http/\n",
      "def fetch_random_ints(num, min, max):\n",
      "    if num > 10000:\n",
      "        raise Exception(\"num too large\")\n",
      "\n",
      "    if max > 1000000000:\n",
      "        raise Exception(\"max too large\")\n",
      "\n",
      "    print \"Fetching %s integers in [%s, %s] from random.org\" % (\n",
      "        num,\n",
      "        min,\n",
      "        max\n",
      "    )\n",
      "\n",
      "    resp = requests.get(\n",
      "        \"https://www.random.org/integers/\",\n",
      "        params=dict(\n",
      "            num=num,\n",
      "            min=min,\n",
      "            max=max,\n",
      "            col=1,\n",
      "            base=10,\n",
      "            format=\"plain\",\n",
      "            rnd=\"new\"\n",
      "        )\n",
      "    )\n",
      "    \n",
      "    if resp.status_code != 200:\n",
      "        raise Exception(\"Unexpected status code: %s (%s)\" % (\n",
      "            resp.status_code,\n",
      "            resp.text\n",
      "        ))\n",
      "\n",
      "    return [int(x)\n",
      "            for x in resp.text.split('\\n')\n",
      "            if x]"
     ],
     "language": "python",
     "metadata": {},
     "outputs": [],
     "prompt_number": 138
    },
    {
     "cell_type": "markdown",
     "metadata": {},
     "source": [
      "# Random generator"
     ]
    },
    {
     "cell_type": "code",
     "collapsed": false,
     "input": [
      "import random\n",
      "\n",
      "# simple generator based on the standard 'random' module\n",
      "def simple_pool():\n",
      "    while True:\n",
      "        yield chr(random.randint(0, 255))\n",
      "\n",
      "# secure random generator based on the data from random.org\n",
      "def secure_pool(pool_size):\n",
      "    while True:\n",
      "        print \"obtaining %s bytes of random data\" % pool_size\n",
      "        pool = fetch_random_ints(pool_size, 0, 255)\n",
      "        for byte in pool:\n",
      "            yield chr(byte)\n",
      "\n",
      "def random_gen(gen):\n",
      "    def func(n):\n",
      "        return reduce(lambda a, b: a + b,\n",
      "                      (gen.next() for x in xrange(n)))\n",
      "    return func"
     ],
     "language": "python",
     "metadata": {},
     "outputs": [],
     "prompt_number": 139
    },
    {
     "cell_type": "markdown",
     "metadata": {},
     "source": [
      "# RSA primitives"
     ]
    },
    {
     "cell_type": "code",
     "collapsed": false,
     "input": [
      "from Crypto.Cipher import PKCS1_OAEP\n",
      "from Crypto.Hash import SHA\n",
      "from Crypto.PublicKey import RSA\n",
      "\n",
      "def gen_rsa_keypair(key_size, random_generator):\n",
      "    priv = RSA.generate(key_size, random_generator)\n",
      "    return priv, priv.publickey()\n",
      "\n",
      "def rsa_encrypt(message, pub):\n",
      "    cipher = PKCS1_OAEP.new(pub, SHA)\n",
      "    return cipher.encrypt(message)\n",
      "\n",
      "def rsa_decrypt(ciphertext, priv):\n",
      "    cipher = PKCS1_OAEP.new(priv, SHA)\n",
      "    return cipher.decrypt(ciphertext)"
     ],
     "language": "python",
     "metadata": {},
     "outputs": [],
     "prompt_number": 140
    },
    {
     "cell_type": "markdown",
     "metadata": {},
     "source": [
      "# RSA example"
     ]
    },
    {
     "cell_type": "code",
     "collapsed": false,
     "input": [
      "# random_generator = random_gen(simple_pool())\n",
      "random_generator = random_gen(secure_pool(128))\n",
      "\n",
      "print \"Generating RSA keypair...\"\n",
      "priv, pub = gen_rsa_keypair(1024, random_generator)\n",
      "\n",
      "message = \"test message\"\n",
      "\n",
      "print \"Encrypting '%s'...\" % message\n",
      "ciphertext = rsa_encrypt(message, pub)\n",
      "\n",
      "print \"Decrypting ciphertext (%s bytes)...\" % len(ciphertext)\n",
      "decrypted = rsa_decrypt(ciphertext, priv)\n",
      "print \"decrypted:\", decrypted\n",
      "\n",
      "assert message == decrypted"
     ],
     "language": "python",
     "metadata": {},
     "outputs": [
      {
       "output_type": "stream",
       "stream": "stdout",
       "text": [
        "Generating RSA keypair...\n",
        "obtaining 128 bytes of random data\n",
        "Fetching 128 integers in [0, 255] from random.org\n",
        "obtaining 128 bytes of random data"
       ]
      },
      {
       "output_type": "stream",
       "stream": "stdout",
       "text": [
        "\n",
        "Fetching 128 integers in [0, 255] from random.org\n",
        "Encrypting 'test message'..."
       ]
      },
      {
       "output_type": "stream",
       "stream": "stdout",
       "text": [
        "\n",
        "Decrypting ciphertext (128 bytes)...\n",
        "decrypted: test message\n"
       ]
      }
     ],
     "prompt_number": 141
    },
    {
     "cell_type": "markdown",
     "metadata": {},
     "source": [
      "# Bitmap example"
     ]
    },
    {
     "cell_type": "code",
     "collapsed": false,
     "input": [
      "from PIL import Image\n",
      "\n",
      "# Create the image\n",
      "img = Image.new( 'RGB', (128, 128), \"black\")\n",
      "pixels = img.load()\n",
      "\n",
      "# Choose random source:\n",
      "# random_generator = random_gen(simple_pool())\n",
      "random_generator = random_gen(secure_pool(10000))\n",
      "\n",
      "# Set pixel data\n",
      "for i in range(img.size[0]):\n",
      "    for j in range(img.size[1]):\n",
      "        r, g, b = tuple(map(ord, random_generator(3)))\n",
      "        pixels[i,j] = (r, g, b)\n",
      "\n",
      "# Render\n",
      "from matplotlib.pyplot import imshow\n",
      "import numpy as np\n",
      "%matplotlib inline\n",
      "# imshow(np.asarray(img)) # show inline\n",
      "img.show() # open external preview app"
     ],
     "language": "python",
     "metadata": {},
     "outputs": [
      {
       "output_type": "stream",
       "stream": "stdout",
       "text": [
        "obtaining 10000 bytes of random data\n",
        "Fetching 10000 integers in [0, 255] from random.org\n",
        "obtaining 10000 bytes of random data"
       ]
      },
      {
       "output_type": "stream",
       "stream": "stdout",
       "text": [
        "\n",
        "Fetching 10000 integers in [0, 255] from random.org\n",
        "obtaining 10000 bytes of random data"
       ]
      },
      {
       "output_type": "stream",
       "stream": "stdout",
       "text": [
        "\n",
        "Fetching 10000 integers in [0, 255] from random.org\n",
        "obtaining 10000 bytes of random data"
       ]
      },
      {
       "output_type": "stream",
       "stream": "stdout",
       "text": [
        "\n",
        "Fetching 10000 integers in [0, 255] from random.org\n",
        "obtaining 10000 bytes of random data"
       ]
      },
      {
       "output_type": "stream",
       "stream": "stdout",
       "text": [
        "\n",
        "Fetching 10000 integers in [0, 255] from random.org\n"
       ]
      }
     ],
     "prompt_number": 142
    }
   ],
   "metadata": {}
  }
 ]
}